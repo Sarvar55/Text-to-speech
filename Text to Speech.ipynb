{
 "cells": [
  {
   "cell_type": "code",
   "execution_count": 17,
   "metadata": {},
   "outputs": [
    {
     "name": "stdout",
     "output_type": "stream",
     "text": [
      "Requirement already satisfied: gTTS in c:\\users\\user\\anaconda3\\lib\\site-packages (2.2.2)\n",
      "Requirement already satisfied: six in c:\\users\\user\\anaconda3\\lib\\site-packages (from gTTS) (1.15.0)\n",
      "Requirement already satisfied: click in c:\\users\\user\\anaconda3\\lib\\site-packages (from gTTS) (7.1.2)\n",
      "Requirement already satisfied: requests in c:\\users\\user\\anaconda3\\lib\\site-packages (from gTTS) (2.24.0)\n",
      "Requirement already satisfied: idna<3,>=2.5 in c:\\users\\user\\anaconda3\\lib\\site-packages (from requests->gTTS) (2.10)\n",
      "Requirement already satisfied: certifi>=2017.4.17 in c:\\users\\user\\anaconda3\\lib\\site-packages (from requests->gTTS) (2020.6.20)\n",
      "Requirement already satisfied: chardet<4,>=3.0.2 in c:\\users\\user\\anaconda3\\lib\\site-packages (from requests->gTTS) (3.0.4)\n",
      "Requirement already satisfied: urllib3!=1.25.0,!=1.25.1,<1.26,>=1.21.1 in c:\\users\\user\\anaconda3\\lib\\site-packages (from requests->gTTS) (1.25.11)\n",
      "Note: you may need to restart the kernel to use updated packages.\n"
     ]
    }
   ],
   "source": [
    "pip install gTTS"
   ]
  },
  {
   "cell_type": "code",
   "execution_count": 9,
   "metadata": {},
   "outputs": [],
   "source": [
    "from gtts import gTTS\n",
    "import os\n",
    "myText=\"Hi I am computer engineer \" \n",
    "output= gTTS(text=myText,lang='tr',slow=False)\n",
    "output.save(\"outputtr.mp3\")"
   ]
  },
  {
   "cell_type": "code",
   "execution_count": 10,
   "metadata": {},
   "outputs": [
    {
     "data": {
      "text/html": [
       "\n",
       "                <audio  controls=\"controls\" >\n",
       "                    <source src=\"data:audio/mpeg;base64,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\" type=\"audio/mpeg\" />\n",
       "                    Your browser does not support the audio element.\n",
       "                </audio>\n",
       "              "
      ],
      "text/plain": [
       "<IPython.lib.display.Audio object>"
      ]
     },
     "execution_count": 10,
     "metadata": {},
     "output_type": "execute_result"
    }
   ],
   "source": [
    "from IPython.display import Audio\n",
    "audio = Audio(filename='outputtr.mp3')\n",
    "audio\n"
   ]
  },
  {
   "cell_type": "code",
   "execution_count": null,
   "metadata": {},
   "outputs": [],
   "source": []
  },
  {
   "cell_type": "code",
   "execution_count": 14,
   "metadata": {},
   "outputs": [],
   "source": []
  },
  {
   "cell_type": "code",
   "execution_count": 15,
   "metadata": {},
   "outputs": [],
   "source": []
  },
  {
   "cell_type": "code",
   "execution_count": 16,
   "metadata": {},
   "outputs": [],
   "source": []
  },
  {
   "cell_type": "code",
   "execution_count": null,
   "metadata": {},
   "outputs": [],
   "source": []
  }
 ],
 "metadata": {
  "kernelspec": {
   "display_name": "Python 3",
   "language": "python",
   "name": "python3"
  },
  "language_info": {
   "codemirror_mode": {
    "name": "ipython",
    "version": 3
   },
   "file_extension": ".py",
   "mimetype": "text/x-python",
   "name": "python",
   "nbconvert_exporter": "python",
   "pygments_lexer": "ipython3",
   "version": "3.8.5"
  }
 },
 "nbformat": 4,
 "nbformat_minor": 4
}
